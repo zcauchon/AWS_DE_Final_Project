{
 "cells": [
  {
   "cell_type": "code",
   "execution_count": 13,
   "id": "022f8496",
   "metadata": {},
   "outputs": [],
   "source": [
    "import pandas as pd\n",
    "crime_data = pd.read_csv('C:/Users/622857/Downloads/Crimes_-_2001_to_Present.csv')"
   ]
  },
  {
   "cell_type": "code",
   "execution_count": 17,
   "id": "583dcad1",
   "metadata": {},
   "outputs": [
    {
     "data": {
      "text/plain": [
       "ID                           0\n",
       "Case Number                  4\n",
       "Date                         0\n",
       "Block                        0\n",
       "IUCR                         0\n",
       "Primary Type                 0\n",
       "Description                  0\n",
       "Location Description      9142\n",
       "Arrest                       0\n",
       "Domestic                     0\n",
       "Beat                         0\n",
       "District                    47\n",
       "Ward                    614843\n",
       "Community Area          613478\n",
       "FBI Code                     0\n",
       "X Coordinate             78646\n",
       "Y Coordinate             78646\n",
       "Year                         0\n",
       "Updated On                   0\n",
       "Latitude                 78646\n",
       "Longitude                78646\n",
       "Location                 78646\n",
       "dtype: int64"
      ]
     },
     "execution_count": 17,
     "metadata": {},
     "output_type": "execute_result"
    }
   ],
   "source": [
    "crime_data.isnull().sum()"
   ]
  },
  {
   "cell_type": "code",
   "execution_count": 15,
   "id": "50734269",
   "metadata": {},
   "outputs": [
    {
     "data": {
      "text/plain": [
       "06     1583011\n",
       "08B    1175469\n",
       "14      857163\n",
       "26      743973\n",
       "18      698245\n",
       "05      416375\n",
       "08A     371122\n",
       "07      348383\n",
       "03      282707\n",
       "11      280296\n",
       "04B     205900\n",
       "04A     128995\n",
       "15       97936\n",
       "16       69595\n",
       "24       55294\n",
       "10       41208\n",
       "02       38056\n",
       "17       37729\n",
       "20       30268\n",
       "19       14900\n",
       "22       14674\n",
       "09       12664\n",
       "01A      11737\n",
       "13        2934\n",
       "12        1536\n",
       "01B         69\n",
       "Name: FBI Code, dtype: int64"
      ]
     },
     "execution_count": 15,
     "metadata": {},
     "output_type": "execute_result"
    }
   ],
   "source": [
    "crime_data['FBI Code'].value_counts()"
   ]
  },
  {
   "cell_type": "code",
   "execution_count": null,
   "id": "65aac95a",
   "metadata": {},
   "outputs": [],
   "source": []
  }
 ],
 "metadata": {
  "kernelspec": {
   "display_name": "Python 3 (ipykernel)",
   "language": "python",
   "name": "python3"
  },
  "language_info": {
   "codemirror_mode": {
    "name": "ipython",
    "version": 3
   },
   "file_extension": ".py",
   "mimetype": "text/x-python",
   "name": "python",
   "nbconvert_exporter": "python",
   "pygments_lexer": "ipython3",
   "version": "3.9.7"
  }
 },
 "nbformat": 4,
 "nbformat_minor": 5
}
